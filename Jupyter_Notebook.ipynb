{
 "cells": [
  {
   "cell_type": "markdown",
   "metadata": {},
   "source": [
    "<center>\n",
    "    <img src=\"https://cf-courses-data.s3.us.cloud-object-storage.appdomain.cloud/IBMDeveloperSkillsNetwork-DS0105EN-SkillsNetwork/labs/Module2/images/SN_web_lightmode.png\" width=\"300\" alt=\"cognitiveclass.ai logo\">\n",
    "</center>\n"
   ]
  },
  {
   "cell_type": "markdown",
   "metadata": {},
   "source": [
    "#### Add your code below following the instructions given in the course\n"
   ]
  },
  {
   "cell_type": "code",
   "execution_count": 2,
   "metadata": {},
   "outputs": [
    {
     "ename": "SyntaxError",
     "evalue": "invalid syntax (1323279853.py, line 76)",
     "output_type": "error",
     "traceback": [
      "\u001b[0;36m  Cell \u001b[0;32mIn[2], line 76\u001b[0;36m\u001b[0m\n\u001b[0;31m    \"source\": \"# This expression converts minutes to hours\\nhours = (200)/60\\nprint(f\\\"{hours} hours\\\")\",,\u001b[0m\n\u001b[0m                                                                                                         ^\u001b[0m\n\u001b[0;31mSyntaxError\u001b[0m\u001b[0;31m:\u001b[0m invalid syntax\n"
     ]
    }
   ],
   "source": [
    "{\n",
    "  \"metadata\": {\n",
    "    \"kernelspec\": {\n",
    "      \"name\": \"python\",\n",
    "      \"display_name\": \"Python (Pyodide)\",\n",
    "      \"language\": \"python\"\n",
    "    },\n",
    "    \"language_info\": {\n",
    "      \"codemirror_mode\": {\n",
    "        \"name\": \"python\",\n",
    "        \"version\": 3\n",
    "      },\n",
    "      \"file_extension\": \".py\",\n",
    "      \"mimetype\": \"text/x-python\",\n",
    "      \"name\": \"python\",\n",
    "      \"nbconvert_exporter\": \"python\",\n",
    "      \"pygments_lexer\": \"ipython3\",\n",
    "      \"version\": \"3.8\"\n",
    "    }\n",
    "  },\n",
    "  \"nbformat_minor\": 4,\n",
    "  \"nbformat\": 4,\n",
    "  \"cells\": [\n",
    "    {\n",
    "      \"cell_type\": \"markdown\",\n",
    "      \"source\": \"# Data Science Tools and Ecosystem\",\n",
    "      \"metadata\": {}\n",
    "    },\n",
    "    {\n",
    "      \"cell_type\": \"markdown\",\n",
    "      \"source\": \"### In this notebook, the Data Science tools are summarized cell by cell\",\n",
    "      \"metadata\": {}\n",
    "    },\n",
    "    {\n",
    "      \"cell_type\": \"markdown\",\n",
    "      \"source\": \"**In bold font**\\n\\nObjectives:\\n* Create unordered lists\\n* Create numbered lists\\n* Write code\\n* Write markdowns\\n* Insert cells\\n* Create tables\\n* And create arithmetic expressions with code\",\n",
    "      \"metadata\": {}\n",
    "    },\n",
    "    {\n",
    "      \"cell_type\": \"markdown\",\n",
    "      \"source\": \"Some of the popular languages that Data Scientists use are:\\n1. Python\\n2. R\\n3. JAVA\\n4. Scala\\n5. SQL\",\n",
    "      \"metadata\": {}\n",
    "    },\n",
    "    {\n",
    "      \"cell_type\": \"markdown\",\n",
    "      \"source\": \"Some of the commonly Data Science Libraries include:\\n* Pandas\\n* NumPy\\n* Matplotlib\\n* Scikit-learn\\n* PyTorch\",\n",
    "      \"metadata\": {}\n",
    "    },\n",
    "    {\n",
    "      \"cell_type\": \"markdown\",\n",
    "      \"source\": \"|          | Data Science Tools |            |\\n|--------------------| ------------------ | ------- |\\n| JupyterLabs | Anaconda | Rstudio |\",\n",
    "      \"metadata\": {}\n",
    "    },\n",
    "    {\n",
    "      \"cell_type\": \"markdown\",\n",
    "      \"source\": \"### There are some examples of arithmetic expressions in Jupyter with Python:\",\n",
    "      \"metadata\": {}\n",
    "    },\n",
    "    {\n",
    "      \"cell_type\": \"code\",\n",
    "      \"source\": \"# This a simple arithmetic expression to mutiply then add integers\\nx = (3*4)+5\\nprint(f\\\"the result is {x}\\\")\",\n",
    "      \"metadata\": {\n",
    "        \"trusted\": true\n",
    "      },\n",
    "      \"outputs\": [\n",
    "        {\n",
    "          \"name\": \"stdout\",\n",
    "          \"text\": \"the result is 17\\n\",\n",
    "          \"output_type\": \"stream\"\n",
    "        }\n",
    "      ],\n",
    "      \"execution_count\": 15\n",
    "    },\n",
    "    {\n",
    "      \"cell_type\": \"code\",\n",
    "      \"source\": \"# This expression converts minutes to hours\\nhours = (200)/60\\nprint(f\\\"{hours} hours\\\")\",\n",
    "      \"metadata\": {\n",
    "        \"trusted\": true\n",
    "      },\n",
    "      \"outputs\": [\n",
    "        {\n",
    "          \"name\": \"stdout\",\n",
    "          \"text\": \"3.3333333333333335 hours\\n\",\n",
    "          \"output_type\": \"stream\"\n",
    "        }\n",
    "      ],\n",
    "      \"execution_count\": 13\n",
    "    },\n",
    "    {\n",
    "      \"cell_type\": \"markdown\",\n",
    "      \"source\": \"## Autor:\\nVictor Caraballo\",\n",
    "      \"metadata\": {}\n",
    "    },\n",
    "    {\n",
    "      \"cell_type\": \"code\",\n",
    "      \"source\": \"\",\n",
    "      \"metadata\": {\n",
    "        \"trusted\": true\n",
    "      },\n",
    "      \"outputs\": [],\n",
    "      \"execution_count\": null\n",
    "    }\n",
    "  ]\n",
    "}"
   ]
  },
  {
   "cell_type": "code",
   "execution_count": null,
   "metadata": {},
   "outputs": [],
   "source": []
  }
 ],
 "metadata": {
  "kernelspec": {
   "display_name": "Python 3 (ipykernel)",
   "language": "python",
   "name": "python3"
  },
  "language_info": {
   "codemirror_mode": {
    "name": "ipython",
    "version": 3
   },
   "file_extension": ".py",
   "mimetype": "text/x-python",
   "name": "python",
   "nbconvert_exporter": "python",
   "pygments_lexer": "ipython3",
   "version": "3.11.9"
  }
 },
 "nbformat": 4,
 "nbformat_minor": 4
}
